{
 "cells": [
  {
   "cell_type": "code",
   "execution_count": null,
   "id": "d856fd2c",
   "metadata": {},
   "outputs": [],
   "source": [
    "import mysql.connector as msql\n",
    "import serial\n",
    "connection = msql.connect(host=\"localhost\", user=\"root\", database=\"SOC\")\n",
    "cursor = connection.cursor()\n",
    "print(\"db connected\")\n",
    "\n",
    "try:\n",
    "    ser = serial.Serial()\n",
    "    ser.baudrate = 115200\n",
    "    ser.port = 'COM5'\n",
    "    print(ser)\n",
    "    ser.open()\n",
    "except:\n",
    "    print(\"pass\")\n",
    "\n",
    "\n",
    "while(ser.is_open):\n",
    "    line = ser.readline()\n",
    "    line = line.decode('utf-8')\n",
    "\n",
    "    a = line[0:6]\n",
    "\n",
    "    query = \"INSERT INTO `current_soc` (`SOC`) VALUES ('{0}');\".format(a)\n",
    "    print (a)\n",
    "    cursor.execute(query)\n",
    "    connection.commit()\n",
    "    print(\"done\")\n",
    "else:\n",
    "    print(\"pass\")"
   ]
  },
  {
   "cell_type": "code",
   "execution_count": null,
   "id": "3f813b5e",
   "metadata": {},
   "outputs": [],
   "source": []
  },
  {
   "cell_type": "code",
   "execution_count": null,
   "id": "a8317f16",
   "metadata": {},
   "outputs": [],
   "source": []
  },
  {
   "cell_type": "code",
   "execution_count": null,
   "id": "533af07d",
   "metadata": {},
   "outputs": [],
   "source": []
  }
 ],
 "metadata": {
  "kernelspec": {
   "display_name": "Python 3 (ipykernel)",
   "language": "python",
   "name": "python3"
  },
  "language_info": {
   "codemirror_mode": {
    "name": "ipython",
    "version": 3
   },
   "file_extension": ".py",
   "mimetype": "text/x-python",
   "name": "python",
   "nbconvert_exporter": "python",
   "pygments_lexer": "ipython3",
   "version": "3.9.7"
  }
 },
 "nbformat": 4,
 "nbformat_minor": 5
}
